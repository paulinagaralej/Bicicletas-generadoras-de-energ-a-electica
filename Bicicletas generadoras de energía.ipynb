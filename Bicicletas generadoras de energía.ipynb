{
 "cells": [
  {
   "cell_type": "markdown",
   "metadata": {},
   "source": [
    "# Proceso generación de energía a través de una bicicleta\n",
    "\n",
    "\n",
    "El presente trabajo busca estudiar el fenómeno de la producción de energía eléctrica a partir del uso de una bicicleta mediante pedaleos, que serán pasados a una batería para poder producir la luz de un gimnasio donde solo existe la posibilidad de generar el gimnasio completamente para abastecer las necesidades eléctricas a través de las bicis.\n",
    "\n",
    "En un gimnasio promedio pueden generarse alrededor de 37,000 voltios por hora cuando se encuentra a pleno rendimiento, esto quiere decir que, gracias a ello, pueden satisfacerse las necesidades energéticas de las instalaciones.\n",
    "\n",
    "Para acotar el caso de estudio el fenómeno se acotará a elegir si se puede abastecer de energía limpia el gimnasio o se tendrá que usar otra fuente usando numeros aleatorios\n",
    "\n",
    "\n",
    "## Descripción del fenómeno\n",
    "\n",
    "### Generación de energia\n",
    "\n",
    "El proceso de generación de energia ocurre dentro de un establecimiento para hacer ejercicio (gimnasio) donde esta repleto de bicicletas estáticas, a la que se le conecta un generador, una banda de automóvil (con el que se unen las revoluciones de la bicicleta conectada al generador), y un inversor de corriente CDCA. La energía que genera la bicicleta cuando la usamos, se almacena y a partir de esta se pueden tranformar la energía en electricidad. \n",
    "\n",
    "Se debe aclarar que no a todas horas estará en uso constante la maquina para esto habran clases impartidas por maestros especializados en el tema. Habrá horas en las que no se podrán dar clases debido a que hay horarios no concurridos por la gente que tiene trabajo o compromisos.\n",
    "\n",
    "### Descripción del tiempo\n",
    "\n",
    "El proceso de generación de energía se considera de un proceso no tan largo si cada hora esta a su pleno rendimiento, al no estar lleno el gimnasio se usa la energía electrica del establecimiento y es un proceso primario, pero al estar al tope y generar la energía del establecimiento se convierte en un proceso binario.\n",
    "\n",
    "La etapa final de la generación de energía es cuando no hay ningun usuario pedaleando cualquiera de las bicicletas, se considera cada hora como una unidad de tiempo y por tanto, consideramos el tiempo en que se desarrolla este fenómeno como discreto y finito.\n",
    "\n",
    "El tiempo $T$ que usaremos es de 1 hora que es lo que dura la clase y es lo que queremos saber si podremos satisfacer las necesidades del gasto de energia del establecimiento.\n",
    "\n",
    "\n",
    "### Usuarios\n",
    "\n",
    "Los usuarios o número de usuarios en este tipo de elecciones forman parte de un conjunto binario. Para fines prácticos identificaremos el número de usuarios como A y B. A será 60 bicis o menos, B 61 bicis o más. Cada uno con el fin de generar la electricidad. \n",
    "\n",
    "Se establecen 60 ya que el numero de bicis totales es de 70 y el numero optimo para que es´ta pueda producir la energía del establecimiento son apartir de 60.\n",
    "\n",
    "Una persona en promedio genera entre 400 y 600 voltios dependiendo la intensidad que le de a su entrenamiento.\n",
    "\n",
    " Además del tiempo en que los usuarios estén dispuestos a realizar el ejercicio, los usuarios pueden verse inmersos en generar o no la energía. Por ejemplo, poca motivación al momento de pedalear, poca energía, su alimentación, cansancio por trabajo, o que haya hecho ejercicio diferente antes de tomar la clase.\n",
    " \n",
    "\n",
    "\n",
    "## Características del modelo\n",
    "\n",
    "El modelo consta de una población $P$ constante de $N$ bicicletas que estarán en uso durante  $T$ minutos de clase. \n",
    "$T$ equivale a 60 minutos o bien 1 hora.\n",
    "\n",
    "\n",
    "\n",
    "La intención de voltios generados por un usuario $i \\in P$ está representada por la variable aleatoria $V_i(n) \\in \\{0,1\\}$ (Representa si podria generarse o no la electricidad $n$). \n",
    "\n",
    "\n",
    "Entonces, $\\{X_n: n \\in \\{1,2,\\dots,T\\} \\}$ con $X_n = \\sum\\limits_{i = 1}^{N} V_i(n)$ representa la intención de bicis usadas por los usuarios A al día $n$.  Es evidente que $X_n \\in [0,N]$.\n",
    "\n",
    "La electricidad del establecimiento puede encontrarse en alguno de los siguientes 3 estados en un momento $n$ dado:\n",
    " 1. 37000 voltios o menos. \n",
    " 2. 37000 voltios.\n",
    " 3. 37000 voltios o más por B.\n",
    " \n",
    "Estos estados serán representados de la siguiente manera en:\n",
    "\n",
    " 1. $V_i(n)= 37000$ \n",
    " 2. $P(V_i(n)= 1) = p_i(n)$ \n",
    " 3. $V_i(n)= 0$\n",
    " \n",
    " Primero se hará una distribución normal de numeros aleatorios donde generando al azar los voltios que puede generar una persona en una hora.\n",
    " Después se hara una distribución exponencial de numeros aleatorios del gasto de voltios que se necesitan para generar la luz de una hora del establecimiento. \n",
    " "
   ]
  },
  {
   "cell_type": "code",
   "execution_count": 17,
   "metadata": {},
   "outputs": [
    {
     "data": {
      "text/plain": [
       "363007149.1268276"
      ]
     },
     "execution_count": 17,
     "metadata": {},
     "output_type": "execute_result"
    }
   ],
   "source": [
    "#Generación de distribución binomial de números aleatorios\n",
    "import numpy as np\n",
    "aleatorios2 = np.random.normal(600,50,60)\n",
    "aleatorios2\n",
    "sum(aleatorios2)\n",
    "\n",
    "\n",
    "#1=35760.26850001939\n",
    "#2-36605.2732441534\n",
    "#nbinomal= 100\n",
    "\n",
    "\n"
   ]
  },
  {
   "cell_type": "code",
   "execution_count": 23,
   "metadata": {},
   "outputs": [
    {
     "data": {
      "text/plain": [
       "<function matplotlib.pyplot.show(close=None, block=None)>"
      ]
     },
     "execution_count": 23,
     "metadata": {},
     "output_type": "execute_result"
    },
    {
     "data": {
      "image/png": "[encoded data removed]",
      "text/plain": [
       "<Figure size 432x288 with 1 Axes>"
      ]
     },
     "metadata": {
      "needs_background": "light"
     },
     "output_type": "display_data"
    }
   ],
   "source": [
    "#Generamos un histograma de los datos anteriores\n",
    "import matplotlib.pyplot as plt\n",
    "grafnormal= plt.hist(aleatorios2)\n",
    "plt.ylabel('frecuencia')\n",
    "plt.xlabel('valores')\n",
    "plt.title('Histograma dist normal')\n",
    "plt.show"
   ]
  },
  {
   "cell_type": "code",
   "execution_count": 21,
   "metadata": {},
   "outputs": [
    {
     "data": {
      "text/plain": [
       "array([37226.83350732])"
      ]
     },
     "execution_count": 21,
     "metadata": {},
     "output_type": "execute_result"
    }
   ],
   "source": [
    "#Generaremos una distribución exponencial a traves de numeros aleatorios sobre el gasto de energia del gimnasio en una hora\n",
    "import numpy as np\n",
    "from scipy import stats\n",
    "from scipy.stats import expon\n",
    "#y es el gasto de voltios\n",
    "y= expon.rvs(37000,700, size=1)\n",
    "y\n",
    "#tamaño 1\n",
    "#el valor que me da lo comparo con el valor de la normal\n",
    "#1= 37149.14786398\n",
    "\n"
   ]
  },
  {
   "cell_type": "code",
   "execution_count": 24,
   "metadata": {},
   "outputs": [
    {
     "ename": "ValueError",
     "evalue": "x and y must have same first dimension, but have shapes (1,) and (1000,)",
     "output_type": "error",
     "traceback": [
      "\u001b[1;31m---------------------------------------------------------------------------\u001b[0m",
      "\u001b[1;31mValueError\u001b[0m                                Traceback (most recent call last)",
      "\u001b[1;32m<ipython-input-24-804dd51e69a9>\u001b[0m in \u001b[0;36m<module>\u001b[1;34m\u001b[0m\n\u001b[0;32m      4\u001b[0m x = np.linspace(expon.ppf(0.01),\n\u001b[0;32m      5\u001b[0m                 expon.ppf(0.99), 1000)\n\u001b[1;32m----> 6\u001b[1;33m \u001b[0mplt\u001b[0m\u001b[1;33m.\u001b[0m\u001b[0mplot\u001b[0m\u001b[1;33m(\u001b[0m\u001b[0my\u001b[0m\u001b[1;33m,\u001b[0m\u001b[0mexpon\u001b[0m\u001b[1;33m.\u001b[0m\u001b[0mpdf\u001b[0m\u001b[1;33m(\u001b[0m\u001b[0mx\u001b[0m\u001b[1;33m)\u001b[0m\u001b[1;33m)\u001b[0m\u001b[1;33m\u001b[0m\u001b[1;33m\u001b[0m\u001b[0m\n\u001b[0m\u001b[0;32m      7\u001b[0m \u001b[1;33m\u001b[0m\u001b[0m\n\u001b[0;32m      8\u001b[0m \u001b[1;31m#https://medium.com/qu4nt/distribucion-exponencial-python-1d921a87f835\u001b[0m\u001b[1;33m\u001b[0m\u001b[1;33m\u001b[0m\u001b[1;33m\u001b[0m\u001b[0m\n",
      "\u001b[1;32m~\\anaconda3\\lib\\site-packages\\matplotlib\\pyplot.py\u001b[0m in \u001b[0;36mplot\u001b[1;34m(scalex, scaley, data, *args, **kwargs)\u001b[0m\n\u001b[0;32m   2822\u001b[0m \u001b[1;33m@\u001b[0m\u001b[0m_copy_docstring_and_deprecators\u001b[0m\u001b[1;33m(\u001b[0m\u001b[0mAxes\u001b[0m\u001b[1;33m.\u001b[0m\u001b[0mplot\u001b[0m\u001b[1;33m)\u001b[0m\u001b[1;33m\u001b[0m\u001b[1;33m\u001b[0m\u001b[0m\n\u001b[0;32m   2823\u001b[0m \u001b[1;32mdef\u001b[0m \u001b[0mplot\u001b[0m\u001b[1;33m(\u001b[0m\u001b[1;33m*\u001b[0m\u001b[0margs\u001b[0m\u001b[1;33m,\u001b[0m \u001b[0mscalex\u001b[0m\u001b[1;33m=\u001b[0m\u001b[1;32mTrue\u001b[0m\u001b[1;33m,\u001b[0m \u001b[0mscaley\u001b[0m\u001b[1;33m=\u001b[0m\u001b[1;32mTrue\u001b[0m\u001b[1;33m,\u001b[0m \u001b[0mdata\u001b[0m\u001b[1;33m=\u001b[0m\u001b[1;32mNone\u001b[0m\u001b[1;33m,\u001b[0m \u001b[1;33m**\u001b[0m\u001b[0mkwargs\u001b[0m\u001b[1;33m)\u001b[0m\u001b[1;33m:\u001b[0m\u001b[1;33m\u001b[0m\u001b[1;33m\u001b[0m\u001b[0m\n\u001b[1;32m-> 2824\u001b[1;33m     return gca().plot(\n\u001b[0m\u001b[0;32m   2825\u001b[0m         \u001b[1;33m*\u001b[0m\u001b[0margs\u001b[0m\u001b[1;33m,\u001b[0m \u001b[0mscalex\u001b[0m\u001b[1;33m=\u001b[0m\u001b[0mscalex\u001b[0m\u001b[1;33m,\u001b[0m \u001b[0mscaley\u001b[0m\u001b[1;33m=\u001b[0m\u001b[0mscaley\u001b[0m\u001b[1;33m,\u001b[0m\u001b[1;33m\u001b[0m\u001b[1;33m\u001b[0m\u001b[0m\n\u001b[0;32m   2826\u001b[0m         **({\"data\": data} if data is not None else {}), **kwargs)\n",
      "\u001b[1;32m~\\anaconda3\\lib\\site-packages\\matplotlib\\axes\\_axes.py\u001b[0m in \u001b[0;36mplot\u001b[1;34m(self, scalex, scaley, data, *args, **kwargs)\u001b[0m\n\u001b[0;32m   1741\u001b[0m         \"\"\"\n\u001b[0;32m   1742\u001b[0m         \u001b[0mkwargs\u001b[0m \u001b[1;33m=\u001b[0m \u001b[0mcbook\u001b[0m\u001b[1;33m.\u001b[0m\u001b[0mnormalize_kwargs\u001b[0m\u001b[1;33m(\u001b[0m\u001b[0mkwargs\u001b[0m\u001b[1;33m,\u001b[0m \u001b[0mmlines\u001b[0m\u001b[1;33m.\u001b[0m\u001b[0mLine2D\u001b[0m\u001b[1;33m)\u001b[0m\u001b[1;33m\u001b[0m\u001b[1;33m\u001b[0m\u001b[0m\n\u001b[1;32m-> 1743\u001b[1;33m         \u001b[0mlines\u001b[0m \u001b[1;33m=\u001b[0m \u001b[1;33m[\u001b[0m\u001b[1;33m*\u001b[0m\u001b[0mself\u001b[0m\u001b[1;33m.\u001b[0m\u001b[0m_get_lines\u001b[0m\u001b[1;33m(\u001b[0m\u001b[1;33m*\u001b[0m\u001b[0margs\u001b[0m\u001b[1;33m,\u001b[0m \u001b[0mdata\u001b[0m\u001b[1;33m=\u001b[0m\u001b[0mdata\u001b[0m\u001b[1;33m,\u001b[0m \u001b[1;33m**\u001b[0m\u001b[0mkwargs\u001b[0m\u001b[1;33m)\u001b[0m\u001b[1;33m]\u001b[0m\u001b[1;33m\u001b[0m\u001b[1;33m\u001b[0m\u001b[0m\n\u001b[0m\u001b[0;32m   1744\u001b[0m         \u001b[1;32mfor\u001b[0m \u001b[0mline\u001b[0m \u001b[1;32min\u001b[0m \u001b[0mlines\u001b[0m\u001b[1;33m:\u001b[0m\u001b[1;33m\u001b[0m\u001b[1;33m\u001b[0m\u001b[0m\n\u001b[0;32m   1745\u001b[0m             \u001b[0mself\u001b[0m\u001b[1;33m.\u001b[0m\u001b[0madd_line\u001b[0m\u001b[1;33m(\u001b[0m\u001b[0mline\u001b[0m\u001b[1;33m)\u001b[0m\u001b[1;33m\u001b[0m\u001b[1;33m\u001b[0m\u001b[0m\n",
      "\u001b[1;32m~\\anaconda3\\lib\\site-packages\\matplotlib\\axes\\_base.py\u001b[0m in \u001b[0;36m__call__\u001b[1;34m(self, data, *args, **kwargs)\u001b[0m\n\u001b[0;32m    271\u001b[0m                 \u001b[0mthis\u001b[0m \u001b[1;33m+=\u001b[0m \u001b[0margs\u001b[0m\u001b[1;33m[\u001b[0m\u001b[1;36m0\u001b[0m\u001b[1;33m]\u001b[0m\u001b[1;33m,\u001b[0m\u001b[1;33m\u001b[0m\u001b[1;33m\u001b[0m\u001b[0m\n\u001b[0;32m    272\u001b[0m                 \u001b[0margs\u001b[0m \u001b[1;33m=\u001b[0m \u001b[0margs\u001b[0m\u001b[1;33m[\u001b[0m\u001b[1;36m1\u001b[0m\u001b[1;33m:\u001b[0m\u001b[1;33m]\u001b[0m\u001b[1;33m\u001b[0m\u001b[1;33m\u001b[0m\u001b[0m\n\u001b[1;32m--> 273\u001b[1;33m             \u001b[1;32myield\u001b[0m \u001b[1;32mfrom\u001b[0m \u001b[0mself\u001b[0m\u001b[1;33m.\u001b[0m\u001b[0m_plot_args\u001b[0m\u001b[1;33m(\u001b[0m\u001b[0mthis\u001b[0m\u001b[1;33m,\u001b[0m \u001b[0mkwargs\u001b[0m\u001b[1;33m)\u001b[0m\u001b[1;33m\u001b[0m\u001b[1;33m\u001b[0m\u001b[0m\n\u001b[0m\u001b[0;32m    274\u001b[0m \u001b[1;33m\u001b[0m\u001b[0m\n\u001b[0;32m    275\u001b[0m     \u001b[1;32mdef\u001b[0m \u001b[0mget_next_color\u001b[0m\u001b[1;33m(\u001b[0m\u001b[0mself\u001b[0m\u001b[1;33m)\u001b[0m\u001b[1;33m:\u001b[0m\u001b[1;33m\u001b[0m\u001b[1;33m\u001b[0m\u001b[0m\n",
      "\u001b[1;32m~\\anaconda3\\lib\\site-packages\\matplotlib\\axes\\_base.py\u001b[0m in \u001b[0;36m_plot_args\u001b[1;34m(self, tup, kwargs)\u001b[0m\n\u001b[0;32m    397\u001b[0m \u001b[1;33m\u001b[0m\u001b[0m\n\u001b[0;32m    398\u001b[0m         \u001b[1;32mif\u001b[0m \u001b[0mx\u001b[0m\u001b[1;33m.\u001b[0m\u001b[0mshape\u001b[0m\u001b[1;33m[\u001b[0m\u001b[1;36m0\u001b[0m\u001b[1;33m]\u001b[0m \u001b[1;33m!=\u001b[0m \u001b[0my\u001b[0m\u001b[1;33m.\u001b[0m\u001b[0mshape\u001b[0m\u001b[1;33m[\u001b[0m\u001b[1;36m0\u001b[0m\u001b[1;33m]\u001b[0m\u001b[1;33m:\u001b[0m\u001b[1;33m\u001b[0m\u001b[1;33m\u001b[0m\u001b[0m\n\u001b[1;32m--> 399\u001b[1;33m             raise ValueError(f\"x and y must have same first dimension, but \"\n\u001b[0m\u001b[0;32m    400\u001b[0m                              f\"have shapes {x.shape} and {y.shape}\")\n\u001b[0;32m    401\u001b[0m         \u001b[1;32mif\u001b[0m \u001b[0mx\u001b[0m\u001b[1;33m.\u001b[0m\u001b[0mndim\u001b[0m \u001b[1;33m>\u001b[0m \u001b[1;36m2\u001b[0m \u001b[1;32mor\u001b[0m \u001b[0my\u001b[0m\u001b[1;33m.\u001b[0m\u001b[0mndim\u001b[0m \u001b[1;33m>\u001b[0m \u001b[1;36m2\u001b[0m\u001b[1;33m:\u001b[0m\u001b[1;33m\u001b[0m\u001b[1;33m\u001b[0m\u001b[0m\n",
      "\u001b[1;31mValueError\u001b[0m: x and y must have same first dimension, but have shapes (1,) and (1000,)"
     ]
    },
    {
     "data": {
      "image/png": "[encoded data removed]",
      "text/plain": [
       "<Figure size 432x288 with 1 Axes>"
      ]
     },
     "metadata": {
      "needs_background": "light"
     },
     "output_type": "display_data"
    }
   ],
   "source": [
    "# Graficando la dist exponencial\n",
    "exponencial=expon()\n",
    "y= expon.rvs(34000,700, size=1)\n",
    "x = np.linspace(expon.ppf(0.01),\n",
    "                expon.ppf(0.99), 1000)\n",
    "plt.plot(y,expon.pdf(x))\n",
    "\n",
    "#https://medium.com/qu4nt/distribucion-exponencial-python-1d921a87f835"
   ]
  },
  {
   "cell_type": "code",
   "execution_count": 19,
   "metadata": {},
   "outputs": [
    {
     "data": {
      "image/png": "[encoded data removed]",
      "text/plain": [
       "<Figure size 432x288 with 1 Axes>"
      ]
     },
     "metadata": {
      "needs_background": "light"
     },
     "output_type": "display_data"
    }
   ],
   "source": [
    "plt.hist(y,20)\n",
    "plt.ylabel('frecuencia')\n",
    "plt.xlabel('valores')\n",
    "plt.title('Histograma Exponencial')\n",
    "plt.show()\n"
   ]
  },
  {
   "cell_type": "code",
   "execution_count": 29,
   "metadata": {},
   "outputs": [],
   "source": [
    "import numpy as np\n",
    "import matplotlib.pyplot as plt\n",
    "\n",
    "\n",
    "N = 100\n",
    "norm = aleatorios2\n",
    "exp = y\n",
    "pi= .5\n",
    "Cs = 0.15\n",
    "Cp = 0.10\n",
    "\n",
    "bici = [0,1]\n",
    "\n",
    "#Creacion de la red: Para cada bici se seleccionan al azar dos indices \n",
    "for ii in range(N):\n",
    "    aleatorios2 = np.random.normal(600,50,60)\n",
    "aleatorios2\n",
    "sum(aleatorios2)\n",
    "\n",
    "network =  []\n",
    "for ii in range(N):\n",
    "    network.append(np.random.choice(range(N), size = 2))\n",
    "\n",
    "#Probabilidades iniciales\n",
    "\n",
    "prob = np.full(N,pi)\n",
    "\n",
    "# Funciones \n",
    "\n",
    "def normal(prob):\n",
    "    return np.random.choice(norm,p = [1 - prob,prob])\n",
    "\n",
    "def exponencial(exp):\n",
    "    return bici[exponencial]\n",
    "\n",
    "def nueva_prob(prob,Pi,Xn):\n",
    "    if(prob in (0,1)):\n",
    "        return prob\n",
    "    else:\n",
    "        red_social = sum(list(map(exponencial,Pi)))/len(Pi)\n",
    "        nprob = prob + Cs * normal + Cp * Xn / N\n",
    "        nprob = max(0,nprob)\n",
    "        nprob = min(1,nprob)\n",
    "        return nprob"
   ]
  },
  {
   "cell_type": "code",
   "execution_count": 42,
   "metadata": {},
   "outputs": [],
   "source": [
    "#N será el numero de muestras que se quieren hacer, Ni el número minimo de personas\n",
    "#T el tiempo una hora de clase, pi el total de bicis que hay\n",
    "#\n",
    "N = 100\n",
    "Ni = 60\n",
    "T = 60\n",
    "pi = 70\n",
    "Cs = 0.15\n",
    "Cp = 0.10\n",
    "\n",
    "casos = [0,1]\n",
    "\n",
    "#Creacion de la red: Para cada votante se seleccionan al azar dos indices \n",
    "\n",
    "for ii in range(N):\n",
    "     aleatorios2 = np.random.normal(600,50,60)\n",
    "aleatorios2\n",
    "\n",
    "sum(aleatorios2)\n",
    "network =  []\n",
    "for ii in range(N):\n",
    "    y= expon.rvs(37000,700, size=1)\n",
    "    \n",
    "#Probabilidades iniciales\n",
    "\n",
    "prob = np.full(N,pi)\n",
    "\n",
    "# Funciones \n",
    "\n",
    "def una(prob):\n",
    "    return np.random.choice(casos,p = [1 - prob,prob])\n",
    "\n",
    "def dos(indice):\n",
    "    return gasto[indice]\n",
    "\n",
    "def nuevaprob(prob,Pi,Xn):\n",
    "    if(prob in (0,1)):\n",
    "        return prob\n",
    "    else:\n",
    "        gym = sum(list(map(dos,Pi)))/len(Pi)\n",
    "        nprob = prob + Cs * gym + Cp * Xn / N\n",
    "        nprob = max(0,nprob)\n",
    "        nprob = min(1,nprob)\n",
    "        return nprob"
   ]
  },
  {
   "cell_type": "code",
   "execution_count": 45,
   "metadata": {},
   "outputs": [
    {
     "ename": "ValueError",
     "evalue": "probabilities are not non-negative",
     "output_type": "error",
     "traceback": [
      "\u001b[1;31m---------------------------------------------------------------------------\u001b[0m",
      "\u001b[1;31mValueError\u001b[0m                                Traceback (most recent call last)",
      "\u001b[1;32m<ipython-input-45-6bc504c4de7a>\u001b[0m in \u001b[0;36m<module>\u001b[1;34m\u001b[0m\n\u001b[0;32m      3\u001b[0m \u001b[1;33m\u001b[0m\u001b[0m\n\u001b[0;32m      4\u001b[0m \u001b[1;32mfor\u001b[0m \u001b[0mt\u001b[0m \u001b[1;32min\u001b[0m \u001b[0mrange\u001b[0m\u001b[1;33m(\u001b[0m\u001b[0mT\u001b[0m\u001b[1;33m)\u001b[0m\u001b[1;33m:\u001b[0m\u001b[1;33m\u001b[0m\u001b[1;33m\u001b[0m\u001b[0m\n\u001b[1;32m----> 5\u001b[1;33m     \u001b[0mgasto\u001b[0m \u001b[1;33m=\u001b[0m \u001b[0mlist\u001b[0m\u001b[1;33m(\u001b[0m\u001b[0mmap\u001b[0m\u001b[1;33m(\u001b[0m\u001b[0muna\u001b[0m\u001b[1;33m,\u001b[0m\u001b[0mprob\u001b[0m\u001b[1;33m)\u001b[0m\u001b[1;33m)\u001b[0m\u001b[1;33m\u001b[0m\u001b[1;33m\u001b[0m\u001b[0m\n\u001b[0m\u001b[0;32m      6\u001b[0m     \u001b[0mXn\u001b[0m \u001b[1;33m=\u001b[0m \u001b[0msum\u001b[0m\u001b[1;33m(\u001b[0m\u001b[0mgasto\u001b[0m\u001b[1;33m)\u001b[0m\u001b[1;33m\u001b[0m\u001b[1;33m\u001b[0m\u001b[0m\n\u001b[0;32m      7\u001b[0m     \u001b[0mproceso\u001b[0m\u001b[1;33m.\u001b[0m\u001b[0mappend\u001b[0m\u001b[1;33m(\u001b[0m\u001b[0mXn\u001b[0m\u001b[1;33m)\u001b[0m\u001b[1;33m\u001b[0m\u001b[1;33m\u001b[0m\u001b[0m\n",
      "\u001b[1;32m<ipython-input-42-4de3ee3a22f5>\u001b[0m in \u001b[0;36muna\u001b[1;34m(prob)\u001b[0m\n\u001b[0;32m     29\u001b[0m \u001b[1;33m\u001b[0m\u001b[0m\n\u001b[0;32m     30\u001b[0m \u001b[1;32mdef\u001b[0m \u001b[0muna\u001b[0m\u001b[1;33m(\u001b[0m\u001b[0mprob\u001b[0m\u001b[1;33m)\u001b[0m\u001b[1;33m:\u001b[0m\u001b[1;33m\u001b[0m\u001b[1;33m\u001b[0m\u001b[0m\n\u001b[1;32m---> 31\u001b[1;33m     \u001b[1;32mreturn\u001b[0m \u001b[0mnp\u001b[0m\u001b[1;33m.\u001b[0m\u001b[0mrandom\u001b[0m\u001b[1;33m.\u001b[0m\u001b[0mchoice\u001b[0m\u001b[1;33m(\u001b[0m\u001b[0mcasos\u001b[0m\u001b[1;33m,\u001b[0m\u001b[0mp\u001b[0m \u001b[1;33m=\u001b[0m \u001b[1;33m[\u001b[0m\u001b[1;36m1\u001b[0m \u001b[1;33m-\u001b[0m \u001b[0mprob\u001b[0m\u001b[1;33m,\u001b[0m\u001b[0mprob\u001b[0m\u001b[1;33m]\u001b[0m\u001b[1;33m)\u001b[0m\u001b[1;33m\u001b[0m\u001b[1;33m\u001b[0m\u001b[0m\n\u001b[0m\u001b[0;32m     32\u001b[0m \u001b[1;33m\u001b[0m\u001b[0m\n\u001b[0;32m     33\u001b[0m \u001b[1;32mdef\u001b[0m \u001b[0mdos\u001b[0m\u001b[1;33m(\u001b[0m\u001b[0mindice\u001b[0m\u001b[1;33m)\u001b[0m\u001b[1;33m:\u001b[0m\u001b[1;33m\u001b[0m\u001b[1;33m\u001b[0m\u001b[0m\n",
      "\u001b[1;32mmtrand.pyx\u001b[0m in \u001b[0;36mnumpy.random.mtrand.RandomState.choice\u001b[1;34m()\u001b[0m\n",
      "\u001b[1;31mValueError\u001b[0m: probabilities are not non-negative"
     ]
    }
   ],
   "source": [
    "# \n",
    "\n",
    "gastoenergetico = []\n",
    "\n",
    "for t in range(T):\n",
    "    gasto = list(map(una,prob))\n",
    "    Xn = sum(gasto)\n",
    "    proceso.append(Xn)\n",
    "    for i in range(N):\n",
    "        prob[i] = nueva_prob(prob[i],network[i],sum(gasto))\n",
    "    "
   ]
  },
  {
   "cell_type": "code",
   "execution_count": 48,
   "metadata": {},
   "outputs": [
    {
     "data": {
      "image/png": "[encoded data removed]",
      "text/plain": [
       "<Figure size 432x288 with 1 Axes>"
      ]
     },
     "metadata": {
      "needs_background": "light"
     },
     "output_type": "display_data"
    }
   ],
   "source": [
    "plt.plot(gastoenergetico)\n",
    "plt.ylabel('dias')\n",
    "plt.xlabel('Cumple el gato energetico')\n",
    "plt.show()"
   ]
  },
  {
   "cell_type": "code",
   "execution_count": null,
   "metadata": {},
   "outputs": [],
   "source": []
  }
 ],
 "metadata": {
  "kernelspec": {
   "display_name": "Python 3",
   "language": "python",
   "name": "python3"
  },
  "language_info": {
   "codemirror_mode": {
    "name": "ipython",
    "version": 3
   },
   "file_extension": ".py",
   "mimetype": "text/x-python",
   "name": "python",
   "nbconvert_exporter": "python",
   "pygments_lexer": "ipython3",
   "version": "3.8.3"
  }
 },
 "nbformat": 4,
 "nbformat_minor": 4
}
